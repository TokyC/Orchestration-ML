{
 "cells": [
  {
   "cell_type": "code",
   "execution_count": 115,
   "outputs": [],
   "source": [
    "import pandas as pd\n",
    "import seaborn as sns\n",
    "import matplotlib.pyplot as plt\n",
    "from sklearn.preprocessing import LabelEncoder\n",
    "from sklearn.model_selection import train_test_split\n",
    "import numpy as np\n",
    "sns.set()"
   ],
   "metadata": {
    "collapsed": false,
    "ExecuteTime": {
     "end_time": "2023-07-06T07:18:38.863330600Z",
     "start_time": "2023-07-06T07:18:38.848447900Z"
    }
   }
  },
  {
   "cell_type": "markdown",
   "source": [
    "Load data"
   ],
   "metadata": {
    "collapsed": false
   }
  },
  {
   "cell_type": "code",
   "execution_count": 116,
   "outputs": [
    {
     "data": {
      "text/plain": "  League  Season  Home Team    Away Team  Home Goals  Away Goals  Home FH  \\\n0   Eng1      20  Liverpool      Norwich           4           1        4   \n1   Eng1      20  Tottenham  Aston Villa           3           1        0   \n2   Eng1      20   C Palace      Everton           0           0        0   \n3   Eng1      20   West Ham     Man City           0           5        0   \n4   Eng1      20    Watford     Brighton           0           3        0   \n\n   Away FH Home Win    Draw Away Win Over 2,5 Under 2,5  Code 1  Code 2  \\\n0        0    1?140  10?430   19?630    1?340     3?440    1002    1011   \n1        1    1?390   5?350    8?420    1?580     2?520    1001    1003   \n2        0    3?370   3?450    2?270    2?220     1?740    1012    1017   \n3        1   11?110   6?680    1?270    1?430     3?030    1022    1009   \n4        1    2?050   3?380    4?120    2?160     1?780    1025    1036   \n\n   Total Goals  FH Goals Winner HT Winner  \n0            5         4      H         H  \n1            4         1      H         A  \n2            0         0      D         D  \n3            5         1      A         A  \n4            3         1      A         A  ",
      "text/html": "<div>\n<style scoped>\n    .dataframe tbody tr th:only-of-type {\n        vertical-align: middle;\n    }\n\n    .dataframe tbody tr th {\n        vertical-align: top;\n    }\n\n    .dataframe thead th {\n        text-align: right;\n    }\n</style>\n<table border=\"1\" class=\"dataframe\">\n  <thead>\n    <tr style=\"text-align: right;\">\n      <th></th>\n      <th>League</th>\n      <th>Season</th>\n      <th>Home Team</th>\n      <th>Away Team</th>\n      <th>Home Goals</th>\n      <th>Away Goals</th>\n      <th>Home FH</th>\n      <th>Away FH</th>\n      <th>Home Win</th>\n      <th>Draw</th>\n      <th>Away Win</th>\n      <th>Over 2,5</th>\n      <th>Under 2,5</th>\n      <th>Code 1</th>\n      <th>Code 2</th>\n      <th>Total Goals</th>\n      <th>FH Goals</th>\n      <th>Winner</th>\n      <th>HT Winner</th>\n    </tr>\n  </thead>\n  <tbody>\n    <tr>\n      <th>0</th>\n      <td>Eng1</td>\n      <td>20</td>\n      <td>Liverpool</td>\n      <td>Norwich</td>\n      <td>4</td>\n      <td>1</td>\n      <td>4</td>\n      <td>0</td>\n      <td>1?140</td>\n      <td>10?430</td>\n      <td>19?630</td>\n      <td>1?340</td>\n      <td>3?440</td>\n      <td>1002</td>\n      <td>1011</td>\n      <td>5</td>\n      <td>4</td>\n      <td>H</td>\n      <td>H</td>\n    </tr>\n    <tr>\n      <th>1</th>\n      <td>Eng1</td>\n      <td>20</td>\n      <td>Tottenham</td>\n      <td>Aston Villa</td>\n      <td>3</td>\n      <td>1</td>\n      <td>0</td>\n      <td>1</td>\n      <td>1?390</td>\n      <td>5?350</td>\n      <td>8?420</td>\n      <td>1?580</td>\n      <td>2?520</td>\n      <td>1001</td>\n      <td>1003</td>\n      <td>4</td>\n      <td>1</td>\n      <td>H</td>\n      <td>A</td>\n    </tr>\n    <tr>\n      <th>2</th>\n      <td>Eng1</td>\n      <td>20</td>\n      <td>C Palace</td>\n      <td>Everton</td>\n      <td>0</td>\n      <td>0</td>\n      <td>0</td>\n      <td>0</td>\n      <td>3?370</td>\n      <td>3?450</td>\n      <td>2?270</td>\n      <td>2?220</td>\n      <td>1?740</td>\n      <td>1012</td>\n      <td>1017</td>\n      <td>0</td>\n      <td>0</td>\n      <td>D</td>\n      <td>D</td>\n    </tr>\n    <tr>\n      <th>3</th>\n      <td>Eng1</td>\n      <td>20</td>\n      <td>West Ham</td>\n      <td>Man City</td>\n      <td>0</td>\n      <td>5</td>\n      <td>0</td>\n      <td>1</td>\n      <td>11?110</td>\n      <td>6?680</td>\n      <td>1?270</td>\n      <td>1?430</td>\n      <td>3?030</td>\n      <td>1022</td>\n      <td>1009</td>\n      <td>5</td>\n      <td>1</td>\n      <td>A</td>\n      <td>A</td>\n    </tr>\n    <tr>\n      <th>4</th>\n      <td>Eng1</td>\n      <td>20</td>\n      <td>Watford</td>\n      <td>Brighton</td>\n      <td>0</td>\n      <td>3</td>\n      <td>0</td>\n      <td>1</td>\n      <td>2?050</td>\n      <td>3?380</td>\n      <td>4?120</td>\n      <td>2?160</td>\n      <td>1?780</td>\n      <td>1025</td>\n      <td>1036</td>\n      <td>3</td>\n      <td>1</td>\n      <td>A</td>\n      <td>A</td>\n    </tr>\n  </tbody>\n</table>\n</div>"
     },
     "metadata": {},
     "output_type": "display_data"
    }
   ],
   "source": [
    "path = \"ALLLEAGUESDATA.csv\"\n",
    "df = pd.read_csv(path,delimiter=\";\")\n",
    "display(df.head())"
   ],
   "metadata": {
    "collapsed": false,
    "ExecuteTime": {
     "end_time": "2023-07-06T07:18:39.360544300Z",
     "start_time": "2023-07-06T07:18:39.185189800Z"
    }
   }
  },
  {
   "cell_type": "code",
   "execution_count": 117,
   "outputs": [
    {
     "data": {
      "text/plain": "           Home Team  Code 1\n0          Liverpool    1002\n1          Tottenham    1001\n2           C Palace    1012\n3           West Ham    1022\n4            Watford    1025\n...              ...     ...\n63184         Toluca   41007\n63185      Monterrey   41018\n63186       San Luis   41019\n63187  Santos Laguna   41008\n63188           Leon   41016\n\n[63189 rows x 2 columns]",
      "text/html": "<div>\n<style scoped>\n    .dataframe tbody tr th:only-of-type {\n        vertical-align: middle;\n    }\n\n    .dataframe tbody tr th {\n        vertical-align: top;\n    }\n\n    .dataframe thead th {\n        text-align: right;\n    }\n</style>\n<table border=\"1\" class=\"dataframe\">\n  <thead>\n    <tr style=\"text-align: right;\">\n      <th></th>\n      <th>Home Team</th>\n      <th>Code 1</th>\n    </tr>\n  </thead>\n  <tbody>\n    <tr>\n      <th>0</th>\n      <td>Liverpool</td>\n      <td>1002</td>\n    </tr>\n    <tr>\n      <th>1</th>\n      <td>Tottenham</td>\n      <td>1001</td>\n    </tr>\n    <tr>\n      <th>2</th>\n      <td>C Palace</td>\n      <td>1012</td>\n    </tr>\n    <tr>\n      <th>3</th>\n      <td>West Ham</td>\n      <td>1022</td>\n    </tr>\n    <tr>\n      <th>4</th>\n      <td>Watford</td>\n      <td>1025</td>\n    </tr>\n    <tr>\n      <th>...</th>\n      <td>...</td>\n      <td>...</td>\n    </tr>\n    <tr>\n      <th>63184</th>\n      <td>Toluca</td>\n      <td>41007</td>\n    </tr>\n    <tr>\n      <th>63185</th>\n      <td>Monterrey</td>\n      <td>41018</td>\n    </tr>\n    <tr>\n      <th>63186</th>\n      <td>San Luis</td>\n      <td>41019</td>\n    </tr>\n    <tr>\n      <th>63187</th>\n      <td>Santos Laguna</td>\n      <td>41008</td>\n    </tr>\n    <tr>\n      <th>63188</th>\n      <td>Leon</td>\n      <td>41016</td>\n    </tr>\n  </tbody>\n</table>\n<p>63189 rows × 2 columns</p>\n</div>"
     },
     "execution_count": 117,
     "metadata": {},
     "output_type": "execute_result"
    }
   ],
   "source": [
    "df_code = df[['Home Team', 'Code 1']]\n",
    "df_code"
   ],
   "metadata": {
    "collapsed": false,
    "ExecuteTime": {
     "end_time": "2023-07-06T07:18:39.454927500Z",
     "start_time": "2023-07-06T07:18:39.344498700Z"
    }
   }
  },
  {
   "cell_type": "markdown",
   "source": [
    "Data cleaning"
   ],
   "metadata": {
    "collapsed": false
   }
  },
  {
   "cell_type": "markdown",
   "source": [
    "Clean column with '?'"
   ],
   "metadata": {
    "collapsed": false
   }
  },
  {
   "cell_type": "code",
   "execution_count": 118,
   "outputs": [
    {
     "data": {
      "text/plain": "  League  Season  Home Team    Away Team  Home Goals  Away Goals  Home FH  \\\n0   Eng1      20  Liverpool      Norwich           4           1        4   \n1   Eng1      20  Tottenham  Aston Villa           3           1        0   \n2   Eng1      20   C Palace      Everton           0           0        0   \n3   Eng1      20   West Ham     Man City           0           5        0   \n4   Eng1      20    Watford     Brighton           0           3        0   \n\n   Away FH Home Win   Draw Away Win Over 2,5 Under 2,5  Code 1  Code 2  \\\n0        0     1140  10430    19630     1340      3440    1002    1011   \n1        1     1390   5350     8420     1580      2520    1001    1003   \n2        0     3370   3450     2270     2220      1740    1012    1017   \n3        1    11110   6680     1270     1430      3030    1022    1009   \n4        1     2050   3380     4120     2160      1780    1025    1036   \n\n   Total Goals  FH Goals Winner HT Winner  \n0            5         4      H         H  \n1            4         1      H         A  \n2            0         0      D         D  \n3            5         1      A         A  \n4            3         1      A         A  ",
      "text/html": "<div>\n<style scoped>\n    .dataframe tbody tr th:only-of-type {\n        vertical-align: middle;\n    }\n\n    .dataframe tbody tr th {\n        vertical-align: top;\n    }\n\n    .dataframe thead th {\n        text-align: right;\n    }\n</style>\n<table border=\"1\" class=\"dataframe\">\n  <thead>\n    <tr style=\"text-align: right;\">\n      <th></th>\n      <th>League</th>\n      <th>Season</th>\n      <th>Home Team</th>\n      <th>Away Team</th>\n      <th>Home Goals</th>\n      <th>Away Goals</th>\n      <th>Home FH</th>\n      <th>Away FH</th>\n      <th>Home Win</th>\n      <th>Draw</th>\n      <th>Away Win</th>\n      <th>Over 2,5</th>\n      <th>Under 2,5</th>\n      <th>Code 1</th>\n      <th>Code 2</th>\n      <th>Total Goals</th>\n      <th>FH Goals</th>\n      <th>Winner</th>\n      <th>HT Winner</th>\n    </tr>\n  </thead>\n  <tbody>\n    <tr>\n      <th>0</th>\n      <td>Eng1</td>\n      <td>20</td>\n      <td>Liverpool</td>\n      <td>Norwich</td>\n      <td>4</td>\n      <td>1</td>\n      <td>4</td>\n      <td>0</td>\n      <td>1140</td>\n      <td>10430</td>\n      <td>19630</td>\n      <td>1340</td>\n      <td>3440</td>\n      <td>1002</td>\n      <td>1011</td>\n      <td>5</td>\n      <td>4</td>\n      <td>H</td>\n      <td>H</td>\n    </tr>\n    <tr>\n      <th>1</th>\n      <td>Eng1</td>\n      <td>20</td>\n      <td>Tottenham</td>\n      <td>Aston Villa</td>\n      <td>3</td>\n      <td>1</td>\n      <td>0</td>\n      <td>1</td>\n      <td>1390</td>\n      <td>5350</td>\n      <td>8420</td>\n      <td>1580</td>\n      <td>2520</td>\n      <td>1001</td>\n      <td>1003</td>\n      <td>4</td>\n      <td>1</td>\n      <td>H</td>\n      <td>A</td>\n    </tr>\n    <tr>\n      <th>2</th>\n      <td>Eng1</td>\n      <td>20</td>\n      <td>C Palace</td>\n      <td>Everton</td>\n      <td>0</td>\n      <td>0</td>\n      <td>0</td>\n      <td>0</td>\n      <td>3370</td>\n      <td>3450</td>\n      <td>2270</td>\n      <td>2220</td>\n      <td>1740</td>\n      <td>1012</td>\n      <td>1017</td>\n      <td>0</td>\n      <td>0</td>\n      <td>D</td>\n      <td>D</td>\n    </tr>\n    <tr>\n      <th>3</th>\n      <td>Eng1</td>\n      <td>20</td>\n      <td>West Ham</td>\n      <td>Man City</td>\n      <td>0</td>\n      <td>5</td>\n      <td>0</td>\n      <td>1</td>\n      <td>11110</td>\n      <td>6680</td>\n      <td>1270</td>\n      <td>1430</td>\n      <td>3030</td>\n      <td>1022</td>\n      <td>1009</td>\n      <td>5</td>\n      <td>1</td>\n      <td>A</td>\n      <td>A</td>\n    </tr>\n    <tr>\n      <th>4</th>\n      <td>Eng1</td>\n      <td>20</td>\n      <td>Watford</td>\n      <td>Brighton</td>\n      <td>0</td>\n      <td>3</td>\n      <td>0</td>\n      <td>1</td>\n      <td>2050</td>\n      <td>3380</td>\n      <td>4120</td>\n      <td>2160</td>\n      <td>1780</td>\n      <td>1025</td>\n      <td>1036</td>\n      <td>3</td>\n      <td>1</td>\n      <td>A</td>\n      <td>A</td>\n    </tr>\n  </tbody>\n</table>\n</div>"
     },
     "execution_count": 118,
     "metadata": {},
     "output_type": "execute_result"
    }
   ],
   "source": [
    "df[['Home Win','Away Win','Draw', 'Over 2,5','Under 2,5']] = df[['Home Win','Away Win','Draw', 'Over 2,5','Under 2,5']].applymap(lambda x: x.replace('?', ''))\n",
    "df.head()"
   ],
   "metadata": {
    "collapsed": false,
    "ExecuteTime": {
     "end_time": "2023-07-06T07:18:40.067808300Z",
     "start_time": "2023-07-06T07:18:39.838522900Z"
    }
   }
  },
  {
   "cell_type": "markdown",
   "source": [
    "Keep only the 5 main leagues"
   ],
   "metadata": {
    "collapsed": false
   }
  },
  {
   "cell_type": "markdown",
   "source": [
    "### Calcul de feature"
   ],
   "metadata": {
    "collapsed": false
   }
  },
  {
   "cell_type": "markdown",
   "source": [
    "Proportion de Match gagné par les team en Home"
   ],
   "metadata": {
    "collapsed": false
   }
  },
  {
   "cell_type": "markdown",
   "source": [
    "Feature:\n",
    "- % win when the team is Home\n",
    "- % win when the team is Away\n",
    "- avg goal scored when the team is Home\n",
    "- avg goal scored when the team is Away\n",
    "- avg goal conceded when the team is Home\n",
    "- avg goal conceded when the team is Away\n"
   ],
   "metadata": {
    "collapsed": false
   }
  },
  {
   "cell_type": "markdown",
   "source": [
    "#### % win when the team is Home"
   ],
   "metadata": {
    "collapsed": false
   }
  },
  {
   "cell_type": "code",
   "execution_count": 119,
   "outputs": [
    {
     "data": {
      "text/plain": "Home Team\n1. FSV Mainz 05    36.764706\n1860 Munich        48.684211\nABC                16.666667\nAEK Athens         65.384615\nAIK                54.901961\n                     ...    \nZulte              32.307692\nZurich             41.666667\nZweigen K          30.136986\nZwickau            35.135135\nZwolle             44.615385\nName: Home Win %, Length: 1379, dtype: float64"
     },
     "execution_count": 119,
     "metadata": {},
     "output_type": "execute_result"
    }
   ],
   "source": [
    "# Compter le nombre de victoires à domicile pour chaque équipe\n",
    "home_wins = df[df['Winner'] == 'H']['Home Team'].value_counts()\n",
    "\n",
    "# Compter le nombre total de matchs à domicile pour chaque équipe\n",
    "home_matches = df['Home Team'].value_counts()\n",
    "\n",
    "# Calculer le pourcentage de victoires à domicile pour chaque équipe\n",
    "home_win_percentage = (home_wins / home_matches) * 100\n",
    "\n",
    "home_win_percentage = home_win_percentage.rename('Home Win %')\n",
    "home_win_percentage"
   ],
   "metadata": {
    "collapsed": false,
    "ExecuteTime": {
     "end_time": "2023-07-06T07:18:41.759610500Z",
     "start_time": "2023-07-06T07:18:41.698002300Z"
    }
   }
  },
  {
   "cell_type": "markdown",
   "source": [
    "#### % win when the team is Away"
   ],
   "metadata": {
    "collapsed": false
   }
  },
  {
   "cell_type": "code",
   "execution_count": 120,
   "outputs": [
    {
     "data": {
      "text/plain": "Away Team\n1. FSV Mainz 05    30.882353\n1860 Munich        39.473684\nABC                      NaN\nAEK Athens         53.846154\nAIK                29.411765\n                     ...    \nZurich             36.111111\nZweigen K          27.027027\nZwickau            23.684211\nZwolle             31.343284\nziantep                  NaN\nName: Away Win %, Length: 1381, dtype: float64"
     },
     "execution_count": 120,
     "metadata": {},
     "output_type": "execute_result"
    }
   ],
   "source": [
    "# % win when the team is Away\n",
    "\n",
    "# Compter le nombre de victoires à domicile pour chaque équipe\n",
    "away_wins = df[df['Winner'] == 'A']['Away Team'].value_counts()\n",
    "\n",
    "# Compter le nombre total de matchs à domicile pour chaque équipe\n",
    "away_matches = df['Away Team'].value_counts()\n",
    "\n",
    "# Calculer le pourcentage de victoires à domicile pour chaque équipe\n",
    "away_win_percentage = (away_wins / away_matches) * 100\n",
    "\n",
    "away_win_percentage\n",
    "\n",
    "# change the name of the column\n",
    "away_win_percentage = away_win_percentage.rename('Away Win %')\n",
    "away_win_percentage"
   ],
   "metadata": {
    "collapsed": false,
    "ExecuteTime": {
     "end_time": "2023-07-06T07:18:42.992821500Z",
     "start_time": "2023-07-06T07:18:42.959341100Z"
    }
   }
  },
  {
   "cell_type": "markdown",
   "source": [
    "#### avg goal scored by home team"
   ],
   "metadata": {
    "collapsed": false
   }
  },
  {
   "cell_type": "code",
   "execution_count": 121,
   "outputs": [
    {
     "data": {
      "text/plain": "Home Team\n1. FSV Mainz 05    1.441176\n1860 Munich        1.921053\nABC                0.666667\nAEK Athens         1.961538\nAIK                1.392157\n                     ...   \nZulte              1.584615\nZurich             1.680556\nZweigen K          1.260274\nZwickau            1.459459\nZwolle             1.815385\nName: Avg_Goal_Home, Length: 1379, dtype: float64"
     },
     "execution_count": 121,
     "metadata": {},
     "output_type": "execute_result"
    }
   ],
   "source": [
    "# Calculer le nombre moyen de buts à domicile pour chaque équipe\n",
    "home_goals_mean = df.groupby('Home Team')['Home Goals'].mean()\n",
    "home_goals_mean = home_goals_mean.rename('Avg_Goal_Home')\n",
    "home_goals_mean"
   ],
   "metadata": {
    "collapsed": false,
    "ExecuteTime": {
     "end_time": "2023-07-06T07:18:44.620165Z",
     "start_time": "2023-07-06T07:18:44.587405800Z"
    }
   }
  },
  {
   "cell_type": "markdown",
   "source": [
    "#### avg goal scored by Away team"
   ],
   "metadata": {
    "collapsed": false
   }
  },
  {
   "cell_type": "code",
   "execution_count": 122,
   "outputs": [
    {
     "data": {
      "text/plain": "Away Team\n1. FSV Mainz 05    1.308824\n1860 Munich        1.526316\nABC                0.333333\nAEK Athens         1.423077\nAIK                1.137255\n                     ...   \nZurich             1.333333\nZweigen K          1.162162\nZwickau            1.105263\nZwolle             1.313433\nziantep            0.000000\nName: Avg_Goal_Away, Length: 1381, dtype: float64"
     },
     "execution_count": 122,
     "metadata": {},
     "output_type": "execute_result"
    }
   ],
   "source": [
    "away_goals_mean = df.groupby('Away Team')['Away Goals'].mean()\n",
    "away_goals_mean = away_goals_mean.rename('Avg_Goal_Away')\n",
    "away_goals_mean"
   ],
   "metadata": {
    "collapsed": false,
    "ExecuteTime": {
     "end_time": "2023-07-06T07:18:45.415429800Z",
     "start_time": "2023-07-06T07:18:45.336730500Z"
    }
   }
  },
  {
   "cell_type": "markdown",
   "source": [
    "#### avg goal concede by home team"
   ],
   "metadata": {
    "collapsed": false
   }
  },
  {
   "cell_type": "code",
   "execution_count": 123,
   "outputs": [
    {
     "data": {
      "text/plain": "Home Team\n1. FSV Mainz 05    1.338235\n1860 Munich        1.197368\nABC                1.500000\nAEK Athens         0.846154\nAIK                0.823529\n                     ...   \nZulte              2.046154\nZurich             1.541667\nZweigen K          1.479452\nZwickau            1.337838\nZwolle             1.323077\nName: Avg_Goal_Concede_Home, Length: 1379, dtype: float64"
     },
     "execution_count": 123,
     "metadata": {},
     "output_type": "execute_result"
    }
   ],
   "source": [
    "# Calculer le nombre moyen de buts concéder à domicile\n",
    "home_goals_concede_mean = df.groupby('Home Team')['Away Goals'].mean()\n",
    "home_goals_concede_mean = home_goals_concede_mean.rename('Avg_Goal_Concede_Home')\n",
    "home_goals_concede_mean"
   ],
   "metadata": {
    "collapsed": false,
    "ExecuteTime": {
     "end_time": "2023-07-06T07:18:45.744021300Z",
     "start_time": "2023-07-06T07:18:45.677266800Z"
    }
   }
  },
  {
   "cell_type": "markdown",
   "source": [
    "#### avg goal concede by Away team"
   ],
   "metadata": {
    "collapsed": false
   }
  },
  {
   "cell_type": "code",
   "execution_count": 124,
   "outputs": [
    {
     "data": {
      "text/plain": "Away Team\n1. FSV Mainz 05    1.911765\n1860 Munich        1.355263\nABC                1.666667\nAEK Athens         0.942308\nAIK                1.352941\n                     ...   \nZurich             1.652778\nZweigen K          1.648649\nZwickau            1.618421\nZwolle             1.746269\nziantep            2.000000\nName: Avg_Goal_Concede_Away, Length: 1381, dtype: float64"
     },
     "execution_count": 124,
     "metadata": {},
     "output_type": "execute_result"
    }
   ],
   "source": [
    "away_goals_concede_mean = df.groupby('Away Team')['Home Goals'].mean()\n",
    "away_goals_concede_mean = away_goals_concede_mean.rename('Avg_Goal_Concede_Away')\n",
    "away_goals_concede_mean"
   ],
   "metadata": {
    "collapsed": false,
    "ExecuteTime": {
     "end_time": "2023-07-06T07:18:47.125460300Z",
     "start_time": "2023-07-06T07:18:47.078474700Z"
    }
   }
  },
  {
   "cell_type": "code",
   "execution_count": 125,
   "outputs": [
    {
     "name": "stdout",
     "output_type": "stream",
     "text": [
      "              Team  Home Win %  Away Win %  Avg_Goal_Home  \\\n",
      "0  1. FSV Mainz 05   36.764706   30.882353       1.441176   \n",
      "1      1860 Munich   48.684211   39.473684       1.921053   \n",
      "2              ABC   16.666667         NaN       0.666667   \n",
      "3       AEK Athens   65.384615   53.846154       1.961538   \n",
      "4              AIK   54.901961   29.411765       1.392157   \n",
      "\n",
      "   Avg_Goal_Concede_Home  Avg_Goal_Away  Avg_Goal_Concede_Away  \n",
      "0               1.338235       1.308824               1.911765  \n",
      "1               1.197368       1.526316               1.355263  \n",
      "2               1.500000       0.333333               1.666667  \n",
      "3               0.846154       1.423077               0.942308  \n",
      "4               0.823529       1.137255               1.352941  \n"
     ]
    }
   ],
   "source": [
    "# join the two series\n",
    "df_silver = pd.concat([home_win_percentage, away_win_percentage, home_goals_mean, home_goals_concede_mean, away_goals_mean, away_goals_concede_mean], axis=1)\n",
    "df_silver = df_silver.reset_index().rename(columns={'index': 'Team'})\n",
    "print(df_silver.head())"
   ],
   "metadata": {
    "collapsed": false,
    "ExecuteTime": {
     "end_time": "2023-07-06T07:18:47.408352900Z",
     "start_time": "2023-07-06T07:18:47.368271900Z"
    }
   }
  },
  {
   "cell_type": "code",
   "execution_count": 126,
   "outputs": [
    {
     "data": {
      "text/plain": "<Figure size 1000x800 with 2 Axes>",
      "image/png": "[encoded data removed]"
     },
     "metadata": {},
     "output_type": "display_data"
    }
   ],
   "source": [
    "correlation = df_silver.drop('Team', axis=1).corr()\n",
    "# Tracer la matrice de corrélation avec seaborn\n",
    "plt.figure(figsize=(10, 8))\n",
    "sns.heatmap(correlation, annot=True, cmap='coolwarm', square=True)\n",
    "# Afficher le plot\n",
    "plt.show()"
   ],
   "metadata": {
    "collapsed": false,
    "ExecuteTime": {
     "end_time": "2023-07-06T07:18:48.003517900Z",
     "start_time": "2023-07-06T07:18:47.519083800Z"
    }
   }
  },
  {
   "cell_type": "code",
   "execution_count": 127,
   "outputs": [
    {
     "data": {
      "text/plain": "                 Team  Home Win %  Away Win %  Avg_Goal_Home  \\\n0     1. FSV Mainz 05   36.764706   30.882353       1.441176   \n1         1860 Munich   48.684211   39.473684       1.921053   \n2                 ABC   16.666667         NaN       0.666667   \n3          AEK Athens   65.384615   53.846154       1.961538   \n4                 AIK   54.901961   29.411765       1.392157   \n...               ...         ...         ...            ...   \n1376        Zweigen K   30.136986   27.027027       1.260274   \n1377          Zwickau   35.135135   23.684211       1.459459   \n1378           Zwolle   44.615385   31.343284       1.815385   \n1379           Nagoia         NaN         NaN            NaN   \n1380          ziantep         NaN         NaN            NaN   \n\n      Avg_Goal_Concede_Home  Avg_Goal_Away  Avg_Goal_Concede_Away  \n0                  1.338235       1.308824               1.911765  \n1                  1.197368       1.526316               1.355263  \n2                  1.500000       0.333333               1.666667  \n3                  0.846154       1.423077               0.942308  \n4                  0.823529       1.137255               1.352941  \n...                     ...            ...                    ...  \n1376               1.479452       1.162162               1.648649  \n1377               1.337838       1.105263               1.618421  \n1378               1.323077       1.313433               1.746269  \n1379                    NaN       0.000000               2.000000  \n1380                    NaN       0.000000               2.000000  \n\n[1381 rows x 7 columns]",
      "text/html": "<div>\n<style scoped>\n    .dataframe tbody tr th:only-of-type {\n        vertical-align: middle;\n    }\n\n    .dataframe tbody tr th {\n        vertical-align: top;\n    }\n\n    .dataframe thead th {\n        text-align: right;\n    }\n</style>\n<table border=\"1\" class=\"dataframe\">\n  <thead>\n    <tr style=\"text-align: right;\">\n      <th></th>\n      <th>Team</th>\n      <th>Home Win %</th>\n      <th>Away Win %</th>\n      <th>Avg_Goal_Home</th>\n      <th>Avg_Goal_Concede_Home</th>\n      <th>Avg_Goal_Away</th>\n      <th>Avg_Goal_Concede_Away</th>\n    </tr>\n  </thead>\n  <tbody>\n    <tr>\n      <th>0</th>\n      <td>1. FSV Mainz 05</td>\n      <td>36.764706</td>\n      <td>30.882353</td>\n      <td>1.441176</td>\n      <td>1.338235</td>\n      <td>1.308824</td>\n      <td>1.911765</td>\n    </tr>\n    <tr>\n      <th>1</th>\n      <td>1860 Munich</td>\n      <td>48.684211</td>\n      <td>39.473684</td>\n      <td>1.921053</td>\n      <td>1.197368</td>\n      <td>1.526316</td>\n      <td>1.355263</td>\n    </tr>\n    <tr>\n      <th>2</th>\n      <td>ABC</td>\n      <td>16.666667</td>\n      <td>NaN</td>\n      <td>0.666667</td>\n      <td>1.500000</td>\n      <td>0.333333</td>\n      <td>1.666667</td>\n    </tr>\n    <tr>\n      <th>3</th>\n      <td>AEK Athens</td>\n      <td>65.384615</td>\n      <td>53.846154</td>\n      <td>1.961538</td>\n      <td>0.846154</td>\n      <td>1.423077</td>\n      <td>0.942308</td>\n    </tr>\n    <tr>\n      <th>4</th>\n      <td>AIK</td>\n      <td>54.901961</td>\n      <td>29.411765</td>\n      <td>1.392157</td>\n      <td>0.823529</td>\n      <td>1.137255</td>\n      <td>1.352941</td>\n    </tr>\n    <tr>\n      <th>...</th>\n      <td>...</td>\n      <td>...</td>\n      <td>...</td>\n      <td>...</td>\n      <td>...</td>\n      <td>...</td>\n      <td>...</td>\n    </tr>\n    <tr>\n      <th>1376</th>\n      <td>Zweigen K</td>\n      <td>30.136986</td>\n      <td>27.027027</td>\n      <td>1.260274</td>\n      <td>1.479452</td>\n      <td>1.162162</td>\n      <td>1.648649</td>\n    </tr>\n    <tr>\n      <th>1377</th>\n      <td>Zwickau</td>\n      <td>35.135135</td>\n      <td>23.684211</td>\n      <td>1.459459</td>\n      <td>1.337838</td>\n      <td>1.105263</td>\n      <td>1.618421</td>\n    </tr>\n    <tr>\n      <th>1378</th>\n      <td>Zwolle</td>\n      <td>44.615385</td>\n      <td>31.343284</td>\n      <td>1.815385</td>\n      <td>1.323077</td>\n      <td>1.313433</td>\n      <td>1.746269</td>\n    </tr>\n    <tr>\n      <th>1379</th>\n      <td>Nagoia</td>\n      <td>NaN</td>\n      <td>NaN</td>\n      <td>NaN</td>\n      <td>NaN</td>\n      <td>0.000000</td>\n      <td>2.000000</td>\n    </tr>\n    <tr>\n      <th>1380</th>\n      <td>ziantep</td>\n      <td>NaN</td>\n      <td>NaN</td>\n      <td>NaN</td>\n      <td>NaN</td>\n      <td>0.000000</td>\n      <td>2.000000</td>\n    </tr>\n  </tbody>\n</table>\n<p>1381 rows × 7 columns</p>\n</div>"
     },
     "execution_count": 127,
     "metadata": {},
     "output_type": "execute_result"
    }
   ],
   "source": [
    "df_silver"
   ],
   "metadata": {
    "collapsed": false,
    "ExecuteTime": {
     "end_time": "2023-07-06T07:18:48.866498900Z",
     "start_time": "2023-07-06T07:18:48.787471400Z"
    }
   }
  },
  {
   "cell_type": "code",
   "execution_count": 128,
   "outputs": [],
   "source": [
    "df_code = df_code.rename(columns={'Home Team': 'Team'})\n",
    "df_code  =df_code.drop_duplicates()"
   ],
   "metadata": {
    "collapsed": false,
    "ExecuteTime": {
     "end_time": "2023-07-06T07:18:49.681541100Z",
     "start_time": "2023-07-06T07:18:49.650869600Z"
    }
   }
  },
  {
   "cell_type": "code",
   "execution_count": 129,
   "outputs": [
    {
     "data": {
      "text/plain": "                     Team  Code 1  Home Win %  Away Win %  Avg_Goal_Home  \\\n0               Liverpool    1002   73.684211   56.578947       2.315789   \n1               Tottenham    1001   61.842105   35.526316       1.921053   \n2                C Palace    1012   34.210526   25.000000       1.092105   \n3                West Ham    1022   43.421053   30.263158       1.592105   \n4                 Watford    1025   45.238095   22.619048       1.404762   \n...                   ...     ...         ...         ...            ...   \n1382  Tijuana de Caliente   41006   30.769231   12.000000       1.038462   \n1383           Pumas UNAM   41014   40.740741   16.666667       1.518519   \n1384             Mazatlan   41021   36.000000   11.538462       1.320000   \n1385               Toluca   41007   48.000000   26.923077       1.760000   \n1386          Guadalajara   41013   36.000000   28.000000       0.960000   \n\n      Avg_Goal_Concede_Home  Avg_Goal_Away  Avg_Goal_Concede_Away  \n0                  0.815789       1.921053               1.131579  \n1                  1.065789       1.605263               1.500000  \n2                  1.210526       1.039474               1.565789  \n3                  1.381579       1.210526               1.447368  \n4                  1.285714       0.845238               1.380952  \n...                     ...            ...                    ...  \n1382               1.269231       0.760000               2.040000  \n1383               1.222222       1.083333               1.583333  \n1384               1.480000       1.000000               1.615385  \n1385               1.240000       1.076923               1.615385  \n1386               1.000000       1.000000               0.840000  \n\n[1387 rows x 8 columns]",
      "text/html": "<div>\n<style scoped>\n    .dataframe tbody tr th:only-of-type {\n        vertical-align: middle;\n    }\n\n    .dataframe tbody tr th {\n        vertical-align: top;\n    }\n\n    .dataframe thead th {\n        text-align: right;\n    }\n</style>\n<table border=\"1\" class=\"dataframe\">\n  <thead>\n    <tr style=\"text-align: right;\">\n      <th></th>\n      <th>Team</th>\n      <th>Code 1</th>\n      <th>Home Win %</th>\n      <th>Away Win %</th>\n      <th>Avg_Goal_Home</th>\n      <th>Avg_Goal_Concede_Home</th>\n      <th>Avg_Goal_Away</th>\n      <th>Avg_Goal_Concede_Away</th>\n    </tr>\n  </thead>\n  <tbody>\n    <tr>\n      <th>0</th>\n      <td>Liverpool</td>\n      <td>1002</td>\n      <td>73.684211</td>\n      <td>56.578947</td>\n      <td>2.315789</td>\n      <td>0.815789</td>\n      <td>1.921053</td>\n      <td>1.131579</td>\n    </tr>\n    <tr>\n      <th>1</th>\n      <td>Tottenham</td>\n      <td>1001</td>\n      <td>61.842105</td>\n      <td>35.526316</td>\n      <td>1.921053</td>\n      <td>1.065789</td>\n      <td>1.605263</td>\n      <td>1.500000</td>\n    </tr>\n    <tr>\n      <th>2</th>\n      <td>C Palace</td>\n      <td>1012</td>\n      <td>34.210526</td>\n      <td>25.000000</td>\n      <td>1.092105</td>\n      <td>1.210526</td>\n      <td>1.039474</td>\n      <td>1.565789</td>\n    </tr>\n    <tr>\n      <th>3</th>\n      <td>West Ham</td>\n      <td>1022</td>\n      <td>43.421053</td>\n      <td>30.263158</td>\n      <td>1.592105</td>\n      <td>1.381579</td>\n      <td>1.210526</td>\n      <td>1.447368</td>\n    </tr>\n    <tr>\n      <th>4</th>\n      <td>Watford</td>\n      <td>1025</td>\n      <td>45.238095</td>\n      <td>22.619048</td>\n      <td>1.404762</td>\n      <td>1.285714</td>\n      <td>0.845238</td>\n      <td>1.380952</td>\n    </tr>\n    <tr>\n      <th>...</th>\n      <td>...</td>\n      <td>...</td>\n      <td>...</td>\n      <td>...</td>\n      <td>...</td>\n      <td>...</td>\n      <td>...</td>\n      <td>...</td>\n    </tr>\n    <tr>\n      <th>1382</th>\n      <td>Tijuana de Caliente</td>\n      <td>41006</td>\n      <td>30.769231</td>\n      <td>12.000000</td>\n      <td>1.038462</td>\n      <td>1.269231</td>\n      <td>0.760000</td>\n      <td>2.040000</td>\n    </tr>\n    <tr>\n      <th>1383</th>\n      <td>Pumas UNAM</td>\n      <td>41014</td>\n      <td>40.740741</td>\n      <td>16.666667</td>\n      <td>1.518519</td>\n      <td>1.222222</td>\n      <td>1.083333</td>\n      <td>1.583333</td>\n    </tr>\n    <tr>\n      <th>1384</th>\n      <td>Mazatlan</td>\n      <td>41021</td>\n      <td>36.000000</td>\n      <td>11.538462</td>\n      <td>1.320000</td>\n      <td>1.480000</td>\n      <td>1.000000</td>\n      <td>1.615385</td>\n    </tr>\n    <tr>\n      <th>1385</th>\n      <td>Toluca</td>\n      <td>41007</td>\n      <td>48.000000</td>\n      <td>26.923077</td>\n      <td>1.760000</td>\n      <td>1.240000</td>\n      <td>1.076923</td>\n      <td>1.615385</td>\n    </tr>\n    <tr>\n      <th>1386</th>\n      <td>Guadalajara</td>\n      <td>41013</td>\n      <td>36.000000</td>\n      <td>28.000000</td>\n      <td>0.960000</td>\n      <td>1.000000</td>\n      <td>1.000000</td>\n      <td>0.840000</td>\n    </tr>\n  </tbody>\n</table>\n<p>1387 rows × 8 columns</p>\n</div>"
     },
     "execution_count": 129,
     "metadata": {},
     "output_type": "execute_result"
    }
   ],
   "source": [
    "# join df_code and df_silver on column Team\n",
    "df_final = pd.merge(df_code, df_silver, on='Team', how='inner')\n",
    "df_final"
   ],
   "metadata": {
    "collapsed": false,
    "ExecuteTime": {
     "end_time": "2023-07-06T07:18:50.099697100Z",
     "start_time": "2023-07-06T07:18:50.005457Z"
    }
   }
  },
  {
   "cell_type": "markdown",
   "source": [
    "## Creation du dataset"
   ],
   "metadata": {
    "collapsed": false
   }
  },
  {
   "cell_type": "code",
   "execution_count": 130,
   "outputs": [
    {
     "data": {
      "text/plain": "       Code 1  Code 2 Winner\n0        1002    1011      H\n1        1001    1003      H\n2        1012    1017      D\n3        1022    1009      A\n4        1025    1036      A\n...       ...     ...    ...\n63184   41007   41011      H\n63185   41018   41004      D\n63186   41019   41005      A\n63187   41008   41021      H\n63188   41016   41006      D\n\n[63189 rows x 3 columns]",
      "text/html": "<div>\n<style scoped>\n    .dataframe tbody tr th:only-of-type {\n        vertical-align: middle;\n    }\n\n    .dataframe tbody tr th {\n        vertical-align: top;\n    }\n\n    .dataframe thead th {\n        text-align: right;\n    }\n</style>\n<table border=\"1\" class=\"dataframe\">\n  <thead>\n    <tr style=\"text-align: right;\">\n      <th></th>\n      <th>Code 1</th>\n      <th>Code 2</th>\n      <th>Winner</th>\n    </tr>\n  </thead>\n  <tbody>\n    <tr>\n      <th>0</th>\n      <td>1002</td>\n      <td>1011</td>\n      <td>H</td>\n    </tr>\n    <tr>\n      <th>1</th>\n      <td>1001</td>\n      <td>1003</td>\n      <td>H</td>\n    </tr>\n    <tr>\n      <th>2</th>\n      <td>1012</td>\n      <td>1017</td>\n      <td>D</td>\n    </tr>\n    <tr>\n      <th>3</th>\n      <td>1022</td>\n      <td>1009</td>\n      <td>A</td>\n    </tr>\n    <tr>\n      <th>4</th>\n      <td>1025</td>\n      <td>1036</td>\n      <td>A</td>\n    </tr>\n    <tr>\n      <th>...</th>\n      <td>...</td>\n      <td>...</td>\n      <td>...</td>\n    </tr>\n    <tr>\n      <th>63184</th>\n      <td>41007</td>\n      <td>41011</td>\n      <td>H</td>\n    </tr>\n    <tr>\n      <th>63185</th>\n      <td>41018</td>\n      <td>41004</td>\n      <td>D</td>\n    </tr>\n    <tr>\n      <th>63186</th>\n      <td>41019</td>\n      <td>41005</td>\n      <td>A</td>\n    </tr>\n    <tr>\n      <th>63187</th>\n      <td>41008</td>\n      <td>41021</td>\n      <td>H</td>\n    </tr>\n    <tr>\n      <th>63188</th>\n      <td>41016</td>\n      <td>41006</td>\n      <td>D</td>\n    </tr>\n  </tbody>\n</table>\n<p>63189 rows × 3 columns</p>\n</div>"
     },
     "execution_count": 130,
     "metadata": {},
     "output_type": "execute_result"
    }
   ],
   "source": [
    "df_filtered = df[['Code 1', 'Code 2', 'Winner']]\n",
    "df_filtered"
   ],
   "metadata": {
    "collapsed": false,
    "ExecuteTime": {
     "end_time": "2023-07-06T07:18:52.725584900Z",
     "start_time": "2023-07-06T07:18:52.678251100Z"
    }
   }
  },
  {
   "cell_type": "code",
   "execution_count": 131,
   "outputs": [
    {
     "data": {
      "text/plain": "       Code 1_x  Home_Win_T1  Away_Win_T1  Avg_Goal_Home_T1  \\\n0          1002    73.684211    56.578947          2.315789   \n1          1002    73.684211    56.578947          2.315789   \n2          1002    73.684211    56.578947          2.315789   \n3          1002    73.684211    56.578947          2.315789   \n4          1002    73.684211    56.578947          2.315789   \n...         ...          ...          ...               ...   \n66291     41013    36.000000    28.000000          0.960000   \n66292     41013    36.000000    28.000000          0.960000   \n66293     41013    36.000000    28.000000          0.960000   \n66294     41013    36.000000    28.000000          0.960000   \n66295     41013    36.000000    28.000000          0.960000   \n\n       Avg_Goal_Concede_Home_T1  Avg_Goal_Away_T1  Avg_Goal_Concede_Away_T1  \\\n0                      0.815789          1.921053                  1.131579   \n1                      0.815789          1.921053                  1.131579   \n2                      0.815789          1.921053                  1.131579   \n3                      0.815789          1.921053                  1.131579   \n4                      0.815789          1.921053                  1.131579   \n...                         ...               ...                       ...   \n66291                  1.000000          1.000000                  0.840000   \n66292                  1.000000          1.000000                  0.840000   \n66293                  1.000000          1.000000                  0.840000   \n66294                  1.000000          1.000000                  0.840000   \n66295                  1.000000          1.000000                  0.840000   \n\n       Code 2 Winner  Code 1_y  Home Win %  Away Win %  Avg_Goal_Home  \\\n0        1011      H      1011   34.523810   32.142857       1.154762   \n1        1018      H      1018   53.608247   37.623762       1.773196   \n2        1016      H      1016   38.888889   27.559055       1.468254   \n3        1042      H      1042   46.052632   34.210526       1.657895   \n4        1001      H      1001   61.842105   35.526316       1.921053   \n...       ...    ...       ...         ...         ...            ...   \n66291   41018      H     41018   54.545455   37.142857       1.545455   \n66292   41014      H     41014   55.555556   11.111111       1.777778   \n66293   41014      H     41014   40.740741   16.666667       1.518519   \n66294   41017      H     41017   31.428571   26.470588       1.285714   \n66295   41005      A     41005   48.571429   41.176471       1.628571   \n\n       Avg_Goal_Concede_Home  Avg_Goal_Away  Avg_Goal_Concede_Away  \n0                   1.452381       1.000000               1.511905  \n1                   1.134021       1.277228               1.217822  \n2                   1.357143       1.086614               1.629921  \n3                   1.276316       1.605263               1.592105  \n4                   1.065789       1.605263               1.500000  \n...                      ...            ...                    ...  \n66291               0.848485       1.400000               1.200000  \n66292               0.777778       0.555556               1.444444  \n66293               1.222222       1.083333               1.583333  \n66294               1.371429       1.117647               1.382353  \n66295               0.742857       1.352941               0.941176  \n\n[66296 rows x 16 columns]",
      "text/html": "<div>\n<style scoped>\n    .dataframe tbody tr th:only-of-type {\n        vertical-align: middle;\n    }\n\n    .dataframe tbody tr th {\n        vertical-align: top;\n    }\n\n    .dataframe thead th {\n        text-align: right;\n    }\n</style>\n<table border=\"1\" class=\"dataframe\">\n  <thead>\n    <tr style=\"text-align: right;\">\n      <th></th>\n      <th>Code 1_x</th>\n      <th>Home_Win_T1</th>\n      <th>Away_Win_T1</th>\n      <th>Avg_Goal_Home_T1</th>\n      <th>Avg_Goal_Concede_Home_T1</th>\n      <th>Avg_Goal_Away_T1</th>\n      <th>Avg_Goal_Concede_Away_T1</th>\n      <th>Code 2</th>\n      <th>Winner</th>\n      <th>Code 1_y</th>\n      <th>Home Win %</th>\n      <th>Away Win %</th>\n      <th>Avg_Goal_Home</th>\n      <th>Avg_Goal_Concede_Home</th>\n      <th>Avg_Goal_Away</th>\n      <th>Avg_Goal_Concede_Away</th>\n    </tr>\n  </thead>\n  <tbody>\n    <tr>\n      <th>0</th>\n      <td>1002</td>\n      <td>73.684211</td>\n      <td>56.578947</td>\n      <td>2.315789</td>\n      <td>0.815789</td>\n      <td>1.921053</td>\n      <td>1.131579</td>\n      <td>1011</td>\n      <td>H</td>\n      <td>1011</td>\n      <td>34.523810</td>\n      <td>32.142857</td>\n      <td>1.154762</td>\n      <td>1.452381</td>\n      <td>1.000000</td>\n      <td>1.511905</td>\n    </tr>\n    <tr>\n      <th>1</th>\n      <td>1002</td>\n      <td>73.684211</td>\n      <td>56.578947</td>\n      <td>2.315789</td>\n      <td>0.815789</td>\n      <td>1.921053</td>\n      <td>1.131579</td>\n      <td>1018</td>\n      <td>H</td>\n      <td>1018</td>\n      <td>53.608247</td>\n      <td>37.623762</td>\n      <td>1.773196</td>\n      <td>1.134021</td>\n      <td>1.277228</td>\n      <td>1.217822</td>\n    </tr>\n    <tr>\n      <th>2</th>\n      <td>1002</td>\n      <td>73.684211</td>\n      <td>56.578947</td>\n      <td>2.315789</td>\n      <td>0.815789</td>\n      <td>1.921053</td>\n      <td>1.131579</td>\n      <td>1016</td>\n      <td>H</td>\n      <td>1016</td>\n      <td>38.888889</td>\n      <td>27.559055</td>\n      <td>1.468254</td>\n      <td>1.357143</td>\n      <td>1.086614</td>\n      <td>1.629921</td>\n    </tr>\n    <tr>\n      <th>3</th>\n      <td>1002</td>\n      <td>73.684211</td>\n      <td>56.578947</td>\n      <td>2.315789</td>\n      <td>0.815789</td>\n      <td>1.921053</td>\n      <td>1.131579</td>\n      <td>1042</td>\n      <td>H</td>\n      <td>1042</td>\n      <td>46.052632</td>\n      <td>34.210526</td>\n      <td>1.657895</td>\n      <td>1.276316</td>\n      <td>1.605263</td>\n      <td>1.592105</td>\n    </tr>\n    <tr>\n      <th>4</th>\n      <td>1002</td>\n      <td>73.684211</td>\n      <td>56.578947</td>\n      <td>2.315789</td>\n      <td>0.815789</td>\n      <td>1.921053</td>\n      <td>1.131579</td>\n      <td>1001</td>\n      <td>H</td>\n      <td>1001</td>\n      <td>61.842105</td>\n      <td>35.526316</td>\n      <td>1.921053</td>\n      <td>1.065789</td>\n      <td>1.605263</td>\n      <td>1.500000</td>\n    </tr>\n    <tr>\n      <th>...</th>\n      <td>...</td>\n      <td>...</td>\n      <td>...</td>\n      <td>...</td>\n      <td>...</td>\n      <td>...</td>\n      <td>...</td>\n      <td>...</td>\n      <td>...</td>\n      <td>...</td>\n      <td>...</td>\n      <td>...</td>\n      <td>...</td>\n      <td>...</td>\n      <td>...</td>\n      <td>...</td>\n    </tr>\n    <tr>\n      <th>66291</th>\n      <td>41013</td>\n      <td>36.000000</td>\n      <td>28.000000</td>\n      <td>0.960000</td>\n      <td>1.000000</td>\n      <td>1.000000</td>\n      <td>0.840000</td>\n      <td>41018</td>\n      <td>H</td>\n      <td>41018</td>\n      <td>54.545455</td>\n      <td>37.142857</td>\n      <td>1.545455</td>\n      <td>0.848485</td>\n      <td>1.400000</td>\n      <td>1.200000</td>\n    </tr>\n    <tr>\n      <th>66292</th>\n      <td>41013</td>\n      <td>36.000000</td>\n      <td>28.000000</td>\n      <td>0.960000</td>\n      <td>1.000000</td>\n      <td>1.000000</td>\n      <td>0.840000</td>\n      <td>41014</td>\n      <td>H</td>\n      <td>41014</td>\n      <td>55.555556</td>\n      <td>11.111111</td>\n      <td>1.777778</td>\n      <td>0.777778</td>\n      <td>0.555556</td>\n      <td>1.444444</td>\n    </tr>\n    <tr>\n      <th>66293</th>\n      <td>41013</td>\n      <td>36.000000</td>\n      <td>28.000000</td>\n      <td>0.960000</td>\n      <td>1.000000</td>\n      <td>1.000000</td>\n      <td>0.840000</td>\n      <td>41014</td>\n      <td>H</td>\n      <td>41014</td>\n      <td>40.740741</td>\n      <td>16.666667</td>\n      <td>1.518519</td>\n      <td>1.222222</td>\n      <td>1.083333</td>\n      <td>1.583333</td>\n    </tr>\n    <tr>\n      <th>66294</th>\n      <td>41013</td>\n      <td>36.000000</td>\n      <td>28.000000</td>\n      <td>0.960000</td>\n      <td>1.000000</td>\n      <td>1.000000</td>\n      <td>0.840000</td>\n      <td>41017</td>\n      <td>H</td>\n      <td>41017</td>\n      <td>31.428571</td>\n      <td>26.470588</td>\n      <td>1.285714</td>\n      <td>1.371429</td>\n      <td>1.117647</td>\n      <td>1.382353</td>\n    </tr>\n    <tr>\n      <th>66295</th>\n      <td>41013</td>\n      <td>36.000000</td>\n      <td>28.000000</td>\n      <td>0.960000</td>\n      <td>1.000000</td>\n      <td>1.000000</td>\n      <td>0.840000</td>\n      <td>41005</td>\n      <td>A</td>\n      <td>41005</td>\n      <td>48.571429</td>\n      <td>41.176471</td>\n      <td>1.628571</td>\n      <td>0.742857</td>\n      <td>1.352941</td>\n      <td>0.941176</td>\n    </tr>\n  </tbody>\n</table>\n<p>66296 rows × 16 columns</p>\n</div>"
     },
     "execution_count": 131,
     "metadata": {},
     "output_type": "execute_result"
    }
   ],
   "source": [
    "merged_df = pd.merge(df_final, df_filtered, left_on='Code 1', right_on='Code 1', how='left')\n",
    "\n",
    "merged_df_1 = merged_df.rename(columns={'Code 2_x': 'Code 2',  'Home Win %':'Home_Win_T1', 'Away Win %':'Away_Win_T1', 'Avg_Goal_Home':'Avg_Goal_Home_T1',\n",
    "       'Avg_Goal_Concede_Home':'Avg_Goal_Concede_Home_T1', 'Avg_Goal_Away':'Avg_Goal_Away_T1', 'Avg_Goal_Concede_Away':'Avg_Goal_Concede_Away_T1'})\n",
    "merged_df_1 = merged_df_1.drop('Team', axis=1)\n",
    "\n",
    "merged_df_2 = pd.merge(merged_df_1, df_final, left_on='Code 2', right_on='Code 1', how='left')\n",
    "merged_df_2 = merged_df_2.drop('Team', axis=1)\n",
    "merged_df_1 = merged_df.rename(columns={'Code 1_x': 'Code_T1',  'Home Win %':'Home_Win_T2', 'Away Win %':'Away_Win_T2', 'Avg_Goal_Home':'Avg_Goal_Home_T2',\n",
    "       'Avg_Goal_Concede_Home':'Avg_Goal_Concede_Home_T2', 'Avg_Goal_Away':'Avg_Goal_Away_T2', 'Avg_Goal_Concede_Away':'Avg_Goal_Concede_Away_T2', 'Code 1_y': 'Code_T2'})\n",
    "merged_df_2"
   ],
   "metadata": {
    "collapsed": false,
    "ExecuteTime": {
     "end_time": "2023-07-06T07:18:54.211030100Z",
     "start_time": "2023-07-06T07:18:54.116384100Z"
    }
   }
  },
  {
   "cell_type": "markdown",
   "source": [
    "Réarrangement des colonnes"
   ],
   "metadata": {
    "collapsed": false
   }
  },
  {
   "cell_type": "code",
   "execution_count": 132,
   "outputs": [
    {
     "name": "stdout",
     "output_type": "stream",
     "text": [
      "Taille du dataset: 66296\n",
      "Proportion des classes :\n"
     ]
    },
    {
     "data": {
      "text/plain": "Winner\nH    0.428563\nA    0.309898\nD    0.261539\nName: proportion, dtype: float64"
     },
     "execution_count": 132,
     "metadata": {},
     "output_type": "execute_result"
    }
   ],
   "source": [
    "train_df = merged_df_2[['Home_Win_T1', 'Away_Win_T1', 'Avg_Goal_Home_T1',\n",
    "       'Avg_Goal_Concede_Home_T1', 'Avg_Goal_Away_T1',\n",
    "       'Avg_Goal_Concede_Away_T1','Home Win %', 'Away Win %', 'Avg_Goal_Home', 'Avg_Goal_Concede_Home',\n",
    "       'Avg_Goal_Away', 'Avg_Goal_Concede_Away', 'Winner']]\n",
    "print('Taille du dataset:', train_df.shape[0])\n",
    "print(\"Proportion des classes :\")\n",
    "# Plot it\n",
    "train_df['Winner'].value_counts(normalize=True)\n"
   ],
   "metadata": {
    "collapsed": false,
    "ExecuteTime": {
     "end_time": "2023-07-06T07:18:55.267950900Z",
     "start_time": "2023-07-06T07:18:55.243074700Z"
    }
   }
  },
  {
   "cell_type": "code",
   "execution_count": 143,
   "outputs": [
    {
     "data": {
      "text/plain": "'unknown'"
     },
     "execution_count": 143,
     "metadata": {},
     "output_type": "execute_result"
    }
   ],
   "source": [
    "from sklearn.utils.multiclass import type_of_target\n",
    "\n",
    "type_of_target(train_df['Winner'])"
   ],
   "metadata": {
    "collapsed": false,
    "ExecuteTime": {
     "end_time": "2023-07-06T07:22:35.997042800Z",
     "start_time": "2023-07-06T07:22:35.961000400Z"
    }
   }
  },
  {
   "cell_type": "markdown",
   "source": [
    "Encodage des variables catégorielles"
   ],
   "metadata": {
    "collapsed": false
   }
  },
  {
   "cell_type": "code",
   "execution_count": 144,
   "outputs": [
    {
     "data": {
      "text/plain": "   Home_Win_T1  Away_Win_T1  Avg_Goal_Home_T1  Avg_Goal_Concede_Home_T1  \\\n0    73.684211    56.578947          2.315789                  0.815789   \n1    73.684211    56.578947          2.315789                  0.815789   \n2    73.684211    56.578947          2.315789                  0.815789   \n3    73.684211    56.578947          2.315789                  0.815789   \n4    73.684211    56.578947          2.315789                  0.815789   \n\n   Avg_Goal_Away_T1  Avg_Goal_Concede_Away_T1  Home Win %  Away Win %  \\\n0          1.921053                  1.131579   34.523810   32.142857   \n1          1.921053                  1.131579   53.608247   37.623762   \n2          1.921053                  1.131579   38.888889   27.559055   \n3          1.921053                  1.131579   46.052632   34.210526   \n4          1.921053                  1.131579   61.842105   35.526316   \n\n   Avg_Goal_Home  Avg_Goal_Concede_Home  Avg_Goal_Away  Avg_Goal_Concede_Away  \\\n0       1.154762               1.452381       1.000000               1.511905   \n1       1.773196               1.134021       1.277228               1.217822   \n2       1.468254               1.357143       1.086614               1.629921   \n3       1.657895               1.276316       1.605263               1.592105   \n4       1.921053               1.065789       1.605263               1.500000   \n\n  Winner  \n0      2  \n1      2  \n2      2  \n3      2  \n4      2  ",
      "text/html": "<div>\n<style scoped>\n    .dataframe tbody tr th:only-of-type {\n        vertical-align: middle;\n    }\n\n    .dataframe tbody tr th {\n        vertical-align: top;\n    }\n\n    .dataframe thead th {\n        text-align: right;\n    }\n</style>\n<table border=\"1\" class=\"dataframe\">\n  <thead>\n    <tr style=\"text-align: right;\">\n      <th></th>\n      <th>Home_Win_T1</th>\n      <th>Away_Win_T1</th>\n      <th>Avg_Goal_Home_T1</th>\n      <th>Avg_Goal_Concede_Home_T1</th>\n      <th>Avg_Goal_Away_T1</th>\n      <th>Avg_Goal_Concede_Away_T1</th>\n      <th>Home Win %</th>\n      <th>Away Win %</th>\n      <th>Avg_Goal_Home</th>\n      <th>Avg_Goal_Concede_Home</th>\n      <th>Avg_Goal_Away</th>\n      <th>Avg_Goal_Concede_Away</th>\n      <th>Winner</th>\n    </tr>\n  </thead>\n  <tbody>\n    <tr>\n      <th>0</th>\n      <td>73.684211</td>\n      <td>56.578947</td>\n      <td>2.315789</td>\n      <td>0.815789</td>\n      <td>1.921053</td>\n      <td>1.131579</td>\n      <td>34.523810</td>\n      <td>32.142857</td>\n      <td>1.154762</td>\n      <td>1.452381</td>\n      <td>1.000000</td>\n      <td>1.511905</td>\n      <td>2</td>\n    </tr>\n    <tr>\n      <th>1</th>\n      <td>73.684211</td>\n      <td>56.578947</td>\n      <td>2.315789</td>\n      <td>0.815789</td>\n      <td>1.921053</td>\n      <td>1.131579</td>\n      <td>53.608247</td>\n      <td>37.623762</td>\n      <td>1.773196</td>\n      <td>1.134021</td>\n      <td>1.277228</td>\n      <td>1.217822</td>\n      <td>2</td>\n    </tr>\n    <tr>\n      <th>2</th>\n      <td>73.684211</td>\n      <td>56.578947</td>\n      <td>2.315789</td>\n      <td>0.815789</td>\n      <td>1.921053</td>\n      <td>1.131579</td>\n      <td>38.888889</td>\n      <td>27.559055</td>\n      <td>1.468254</td>\n      <td>1.357143</td>\n      <td>1.086614</td>\n      <td>1.629921</td>\n      <td>2</td>\n    </tr>\n    <tr>\n      <th>3</th>\n      <td>73.684211</td>\n      <td>56.578947</td>\n      <td>2.315789</td>\n      <td>0.815789</td>\n      <td>1.921053</td>\n      <td>1.131579</td>\n      <td>46.052632</td>\n      <td>34.210526</td>\n      <td>1.657895</td>\n      <td>1.276316</td>\n      <td>1.605263</td>\n      <td>1.592105</td>\n      <td>2</td>\n    </tr>\n    <tr>\n      <th>4</th>\n      <td>73.684211</td>\n      <td>56.578947</td>\n      <td>2.315789</td>\n      <td>0.815789</td>\n      <td>1.921053</td>\n      <td>1.131579</td>\n      <td>61.842105</td>\n      <td>35.526316</td>\n      <td>1.921053</td>\n      <td>1.065789</td>\n      <td>1.605263</td>\n      <td>1.500000</td>\n      <td>2</td>\n    </tr>\n  </tbody>\n</table>\n</div>"
     },
     "execution_count": 144,
     "metadata": {},
     "output_type": "execute_result"
    }
   ],
   "source": [
    "for label in [\"Winner\"]:\n",
    "    # train_df[label] = train_df[label].astype(int)\n",
    "    train_df.loc[train_df[label] == 'nan', label] = \"unknown\"\n",
    "    train_df.loc[:, label] = LabelEncoder().fit_transform(train_df.loc[:, label].copy())\n",
    "\n",
    "train_df.head()"
   ],
   "metadata": {
    "collapsed": false,
    "ExecuteTime": {
     "end_time": "2023-07-06T07:22:36.788385100Z",
     "start_time": "2023-07-06T07:22:36.718553Z"
    }
   }
  },
  {
   "cell_type": "code",
   "execution_count": 145,
   "outputs": [
    {
     "data": {
      "text/plain": "   Home_Win_T1  Away_Win_T1  Avg_Goal_Home_T1  Avg_Goal_Concede_Home_T1  \\\n0    73.684211    56.578947          2.315789                  0.815789   \n1    73.684211    56.578947          2.315789                  0.815789   \n2    73.684211    56.578947          2.315789                  0.815789   \n3    73.684211    56.578947          2.315789                  0.815789   \n4    73.684211    56.578947          2.315789                  0.815789   \n\n   Avg_Goal_Away_T1  Avg_Goal_Concede_Away_T1  Home Win %  Away Win %  \\\n0          1.921053                  1.131579   34.523810   32.142857   \n1          1.921053                  1.131579   53.608247   37.623762   \n2          1.921053                  1.131579   38.888889   27.559055   \n3          1.921053                  1.131579   46.052632   34.210526   \n4          1.921053                  1.131579   61.842105   35.526316   \n\n   Avg_Goal_Home  Avg_Goal_Concede_Home  Avg_Goal_Away  Avg_Goal_Concede_Away  \\\n0       1.154762               1.452381       1.000000               1.511905   \n1       1.773196               1.134021       1.277228               1.217822   \n2       1.468254               1.357143       1.086614               1.629921   \n3       1.657895               1.276316       1.605263               1.592105   \n4       1.921053               1.065789       1.605263               1.500000   \n\n  Winner  \n0      2  \n1      2  \n2      2  \n3      2  \n4      2  ",
      "text/html": "<div>\n<style scoped>\n    .dataframe tbody tr th:only-of-type {\n        vertical-align: middle;\n    }\n\n    .dataframe tbody tr th {\n        vertical-align: top;\n    }\n\n    .dataframe thead th {\n        text-align: right;\n    }\n</style>\n<table border=\"1\" class=\"dataframe\">\n  <thead>\n    <tr style=\"text-align: right;\">\n      <th></th>\n      <th>Home_Win_T1</th>\n      <th>Away_Win_T1</th>\n      <th>Avg_Goal_Home_T1</th>\n      <th>Avg_Goal_Concede_Home_T1</th>\n      <th>Avg_Goal_Away_T1</th>\n      <th>Avg_Goal_Concede_Away_T1</th>\n      <th>Home Win %</th>\n      <th>Away Win %</th>\n      <th>Avg_Goal_Home</th>\n      <th>Avg_Goal_Concede_Home</th>\n      <th>Avg_Goal_Away</th>\n      <th>Avg_Goal_Concede_Away</th>\n      <th>Winner</th>\n    </tr>\n  </thead>\n  <tbody>\n    <tr>\n      <th>0</th>\n      <td>73.684211</td>\n      <td>56.578947</td>\n      <td>2.315789</td>\n      <td>0.815789</td>\n      <td>1.921053</td>\n      <td>1.131579</td>\n      <td>34.523810</td>\n      <td>32.142857</td>\n      <td>1.154762</td>\n      <td>1.452381</td>\n      <td>1.000000</td>\n      <td>1.511905</td>\n      <td>2</td>\n    </tr>\n    <tr>\n      <th>1</th>\n      <td>73.684211</td>\n      <td>56.578947</td>\n      <td>2.315789</td>\n      <td>0.815789</td>\n      <td>1.921053</td>\n      <td>1.131579</td>\n      <td>53.608247</td>\n      <td>37.623762</td>\n      <td>1.773196</td>\n      <td>1.134021</td>\n      <td>1.277228</td>\n      <td>1.217822</td>\n      <td>2</td>\n    </tr>\n    <tr>\n      <th>2</th>\n      <td>73.684211</td>\n      <td>56.578947</td>\n      <td>2.315789</td>\n      <td>0.815789</td>\n      <td>1.921053</td>\n      <td>1.131579</td>\n      <td>38.888889</td>\n      <td>27.559055</td>\n      <td>1.468254</td>\n      <td>1.357143</td>\n      <td>1.086614</td>\n      <td>1.629921</td>\n      <td>2</td>\n    </tr>\n    <tr>\n      <th>3</th>\n      <td>73.684211</td>\n      <td>56.578947</td>\n      <td>2.315789</td>\n      <td>0.815789</td>\n      <td>1.921053</td>\n      <td>1.131579</td>\n      <td>46.052632</td>\n      <td>34.210526</td>\n      <td>1.657895</td>\n      <td>1.276316</td>\n      <td>1.605263</td>\n      <td>1.592105</td>\n      <td>2</td>\n    </tr>\n    <tr>\n      <th>4</th>\n      <td>73.684211</td>\n      <td>56.578947</td>\n      <td>2.315789</td>\n      <td>0.815789</td>\n      <td>1.921053</td>\n      <td>1.131579</td>\n      <td>61.842105</td>\n      <td>35.526316</td>\n      <td>1.921053</td>\n      <td>1.065789</td>\n      <td>1.605263</td>\n      <td>1.500000</td>\n      <td>2</td>\n    </tr>\n  </tbody>\n</table>\n</div>"
     },
     "execution_count": 145,
     "metadata": {},
     "output_type": "execute_result"
    }
   ],
   "source": [
    "train_df = train_df.dropna()\n",
    "train_df.head()"
   ],
   "metadata": {
    "collapsed": false,
    "ExecuteTime": {
     "end_time": "2023-07-06T07:22:37.169013400Z",
     "start_time": "2023-07-06T07:22:37.095695Z"
    }
   }
  },
  {
   "cell_type": "code",
   "execution_count": 146,
   "outputs": [
    {
     "data": {
      "text/plain": "   Home_Win_T1  Away_Win_T1  Avg_Goal_Home_T1  Avg_Goal_Concede_Home_T1  \\\n0    73.684211    56.578947          2.315789                  0.815789   \n1    73.684211    56.578947          2.315789                  0.815789   \n2    73.684211    56.578947          2.315789                  0.815789   \n3    73.684211    56.578947          2.315789                  0.815789   \n4    73.684211    56.578947          2.315789                  0.815789   \n\n   Avg_Goal_Away_T1  Avg_Goal_Concede_Away_T1  Home Win %  Away Win %  \\\n0          1.921053                  1.131579   34.523810   32.142857   \n1          1.921053                  1.131579   53.608247   37.623762   \n2          1.921053                  1.131579   38.888889   27.559055   \n3          1.921053                  1.131579   46.052632   34.210526   \n4          1.921053                  1.131579   61.842105   35.526316   \n\n   Avg_Goal_Home  Avg_Goal_Concede_Home  Avg_Goal_Away  Avg_Goal_Concede_Away  \\\n0       1.154762               1.452381       1.000000               1.511905   \n1       1.773196               1.134021       1.277228               1.217822   \n2       1.468254               1.357143       1.086614               1.629921   \n3       1.657895               1.276316       1.605263               1.592105   \n4       1.921053               1.065789       1.605263               1.500000   \n\n  Winner  \n0      2  \n1      2  \n2      2  \n3      2  \n4      2  ",
      "text/html": "<div>\n<style scoped>\n    .dataframe tbody tr th:only-of-type {\n        vertical-align: middle;\n    }\n\n    .dataframe tbody tr th {\n        vertical-align: top;\n    }\n\n    .dataframe thead th {\n        text-align: right;\n    }\n</style>\n<table border=\"1\" class=\"dataframe\">\n  <thead>\n    <tr style=\"text-align: right;\">\n      <th></th>\n      <th>Home_Win_T1</th>\n      <th>Away_Win_T1</th>\n      <th>Avg_Goal_Home_T1</th>\n      <th>Avg_Goal_Concede_Home_T1</th>\n      <th>Avg_Goal_Away_T1</th>\n      <th>Avg_Goal_Concede_Away_T1</th>\n      <th>Home Win %</th>\n      <th>Away Win %</th>\n      <th>Avg_Goal_Home</th>\n      <th>Avg_Goal_Concede_Home</th>\n      <th>Avg_Goal_Away</th>\n      <th>Avg_Goal_Concede_Away</th>\n      <th>Winner</th>\n    </tr>\n  </thead>\n  <tbody>\n    <tr>\n      <th>0</th>\n      <td>73.684211</td>\n      <td>56.578947</td>\n      <td>2.315789</td>\n      <td>0.815789</td>\n      <td>1.921053</td>\n      <td>1.131579</td>\n      <td>34.523810</td>\n      <td>32.142857</td>\n      <td>1.154762</td>\n      <td>1.452381</td>\n      <td>1.000000</td>\n      <td>1.511905</td>\n      <td>2</td>\n    </tr>\n    <tr>\n      <th>1</th>\n      <td>73.684211</td>\n      <td>56.578947</td>\n      <td>2.315789</td>\n      <td>0.815789</td>\n      <td>1.921053</td>\n      <td>1.131579</td>\n      <td>53.608247</td>\n      <td>37.623762</td>\n      <td>1.773196</td>\n      <td>1.134021</td>\n      <td>1.277228</td>\n      <td>1.217822</td>\n      <td>2</td>\n    </tr>\n    <tr>\n      <th>2</th>\n      <td>73.684211</td>\n      <td>56.578947</td>\n      <td>2.315789</td>\n      <td>0.815789</td>\n      <td>1.921053</td>\n      <td>1.131579</td>\n      <td>38.888889</td>\n      <td>27.559055</td>\n      <td>1.468254</td>\n      <td>1.357143</td>\n      <td>1.086614</td>\n      <td>1.629921</td>\n      <td>2</td>\n    </tr>\n    <tr>\n      <th>3</th>\n      <td>73.684211</td>\n      <td>56.578947</td>\n      <td>2.315789</td>\n      <td>0.815789</td>\n      <td>1.921053</td>\n      <td>1.131579</td>\n      <td>46.052632</td>\n      <td>34.210526</td>\n      <td>1.657895</td>\n      <td>1.276316</td>\n      <td>1.605263</td>\n      <td>1.592105</td>\n      <td>2</td>\n    </tr>\n    <tr>\n      <th>4</th>\n      <td>73.684211</td>\n      <td>56.578947</td>\n      <td>2.315789</td>\n      <td>0.815789</td>\n      <td>1.921053</td>\n      <td>1.131579</td>\n      <td>61.842105</td>\n      <td>35.526316</td>\n      <td>1.921053</td>\n      <td>1.065789</td>\n      <td>1.605263</td>\n      <td>1.500000</td>\n      <td>2</td>\n    </tr>\n  </tbody>\n</table>\n</div>"
     },
     "execution_count": 146,
     "metadata": {},
     "output_type": "execute_result"
    }
   ],
   "source": [
    "train_df.isna().sum()\n",
    "train_df.head()"
   ],
   "metadata": {
    "collapsed": false,
    "ExecuteTime": {
     "end_time": "2023-07-06T07:22:37.563722300Z",
     "start_time": "2023-07-06T07:22:37.459214900Z"
    }
   }
  },
  {
   "cell_type": "code",
   "execution_count": 147,
   "outputs": [],
   "source": [
    "train_df = train_df.drop_duplicates()"
   ],
   "metadata": {
    "collapsed": false,
    "ExecuteTime": {
     "end_time": "2023-07-06T07:22:37.920834Z",
     "start_time": "2023-07-06T07:22:37.865179200Z"
    }
   }
  },
  {
   "cell_type": "code",
   "execution_count": 148,
   "outputs": [
    {
     "data": {
      "text/plain": "(47092, 13)"
     },
     "execution_count": 148,
     "metadata": {},
     "output_type": "execute_result"
    }
   ],
   "source": [
    "train_df.shape"
   ],
   "metadata": {
    "collapsed": false,
    "ExecuteTime": {
     "end_time": "2023-07-06T07:22:38.236756900Z",
     "start_time": "2023-07-06T07:22:38.186751700Z"
    }
   }
  },
  {
   "cell_type": "code",
   "execution_count": 149,
   "outputs": [
    {
     "data": {
      "text/plain": "        Home_Win_T1   Away_Win_T1  Avg_Goal_Home_T1  Avg_Goal_Concede_Home_T1  \\\ncount  47092.000000  47092.000000      47092.000000              47092.000000   \nmean      42.070603     30.313123          1.439866                  1.207579   \nstd       12.582077     11.268195          0.365440                  0.293252   \nmin        6.666667      2.941176          0.333333                  0.000000   \n25%       33.870968     22.857143          1.215686                  1.015625   \n50%       40.909091     29.310345          1.386364                  1.185714   \n75%       48.611111     35.869565          1.623529                  1.382353   \nmax      100.000000     87.755102          3.205882                  3.181818   \n\n       Avg_Goal_Away_T1  Avg_Goal_Concede_Away_T1    Home Win %    Away Win %  \\\ncount      47092.000000              47092.000000  47092.000000  47092.000000   \nmean           1.182214                  1.475652     42.497520     30.605678   \nstd            0.307865                  0.321723     12.896506     11.411775   \nmin            0.250000                  0.466667      6.666667      2.941176   \n25%            0.977273                  1.258065     34.210526     23.076923   \n50%            1.133333                  1.456522     41.304348     29.411765   \n75%            1.344828                  1.666667     49.295775     36.111111   \nmax            3.068182                  3.100000    100.000000     87.755102   \n\n       Avg_Goal_Home  Avg_Goal_Concede_Home  Avg_Goal_Away  \\\ncount   47092.000000           47092.000000   47092.000000   \nmean        1.451262               1.201315       1.189491   \nstd         0.374913               0.295347       0.312754   \nmin         0.333333               0.000000       0.250000   \n25%         1.218750               1.011905       0.984375   \n50%         1.396232               1.183099       1.140845   \n75%         1.633333               1.381579       1.352941   \nmax         3.205882               3.181818       3.068182   \n\n       Avg_Goal_Concede_Away  \ncount           47092.000000  \nmean                1.467886  \nstd                 0.321662  \nmin                 0.466667  \n25%                 1.250000  \n50%                 1.447368  \n75%                 1.657895  \nmax                 3.100000  ",
      "text/html": "<div>\n<style scoped>\n    .dataframe tbody tr th:only-of-type {\n        vertical-align: middle;\n    }\n\n    .dataframe tbody tr th {\n        vertical-align: top;\n    }\n\n    .dataframe thead th {\n        text-align: right;\n    }\n</style>\n<table border=\"1\" class=\"dataframe\">\n  <thead>\n    <tr style=\"text-align: right;\">\n      <th></th>\n      <th>Home_Win_T1</th>\n      <th>Away_Win_T1</th>\n      <th>Avg_Goal_Home_T1</th>\n      <th>Avg_Goal_Concede_Home_T1</th>\n      <th>Avg_Goal_Away_T1</th>\n      <th>Avg_Goal_Concede_Away_T1</th>\n      <th>Home Win %</th>\n      <th>Away Win %</th>\n      <th>Avg_Goal_Home</th>\n      <th>Avg_Goal_Concede_Home</th>\n      <th>Avg_Goal_Away</th>\n      <th>Avg_Goal_Concede_Away</th>\n    </tr>\n  </thead>\n  <tbody>\n    <tr>\n      <th>count</th>\n      <td>47092.000000</td>\n      <td>47092.000000</td>\n      <td>47092.000000</td>\n      <td>47092.000000</td>\n      <td>47092.000000</td>\n      <td>47092.000000</td>\n      <td>47092.000000</td>\n      <td>47092.000000</td>\n      <td>47092.000000</td>\n      <td>47092.000000</td>\n      <td>47092.000000</td>\n      <td>47092.000000</td>\n    </tr>\n    <tr>\n      <th>mean</th>\n      <td>42.070603</td>\n      <td>30.313123</td>\n      <td>1.439866</td>\n      <td>1.207579</td>\n      <td>1.182214</td>\n      <td>1.475652</td>\n      <td>42.497520</td>\n      <td>30.605678</td>\n      <td>1.451262</td>\n      <td>1.201315</td>\n      <td>1.189491</td>\n      <td>1.467886</td>\n    </tr>\n    <tr>\n      <th>std</th>\n      <td>12.582077</td>\n      <td>11.268195</td>\n      <td>0.365440</td>\n      <td>0.293252</td>\n      <td>0.307865</td>\n      <td>0.321723</td>\n      <td>12.896506</td>\n      <td>11.411775</td>\n      <td>0.374913</td>\n      <td>0.295347</td>\n      <td>0.312754</td>\n      <td>0.321662</td>\n    </tr>\n    <tr>\n      <th>min</th>\n      <td>6.666667</td>\n      <td>2.941176</td>\n      <td>0.333333</td>\n      <td>0.000000</td>\n      <td>0.250000</td>\n      <td>0.466667</td>\n      <td>6.666667</td>\n      <td>2.941176</td>\n      <td>0.333333</td>\n      <td>0.000000</td>\n      <td>0.250000</td>\n      <td>0.466667</td>\n    </tr>\n    <tr>\n      <th>25%</th>\n      <td>33.870968</td>\n      <td>22.857143</td>\n      <td>1.215686</td>\n      <td>1.015625</td>\n      <td>0.977273</td>\n      <td>1.258065</td>\n      <td>34.210526</td>\n      <td>23.076923</td>\n      <td>1.218750</td>\n      <td>1.011905</td>\n      <td>0.984375</td>\n      <td>1.250000</td>\n    </tr>\n    <tr>\n      <th>50%</th>\n      <td>40.909091</td>\n      <td>29.310345</td>\n      <td>1.386364</td>\n      <td>1.185714</td>\n      <td>1.133333</td>\n      <td>1.456522</td>\n      <td>41.304348</td>\n      <td>29.411765</td>\n      <td>1.396232</td>\n      <td>1.183099</td>\n      <td>1.140845</td>\n      <td>1.447368</td>\n    </tr>\n    <tr>\n      <th>75%</th>\n      <td>48.611111</td>\n      <td>35.869565</td>\n      <td>1.623529</td>\n      <td>1.382353</td>\n      <td>1.344828</td>\n      <td>1.666667</td>\n      <td>49.295775</td>\n      <td>36.111111</td>\n      <td>1.633333</td>\n      <td>1.381579</td>\n      <td>1.352941</td>\n      <td>1.657895</td>\n    </tr>\n    <tr>\n      <th>max</th>\n      <td>100.000000</td>\n      <td>87.755102</td>\n      <td>3.205882</td>\n      <td>3.181818</td>\n      <td>3.068182</td>\n      <td>3.100000</td>\n      <td>100.000000</td>\n      <td>87.755102</td>\n      <td>3.205882</td>\n      <td>3.181818</td>\n      <td>3.068182</td>\n      <td>3.100000</td>\n    </tr>\n  </tbody>\n</table>\n</div>"
     },
     "execution_count": 149,
     "metadata": {},
     "output_type": "execute_result"
    }
   ],
   "source": [
    "train_df.describe()"
   ],
   "metadata": {
    "collapsed": false,
    "ExecuteTime": {
     "end_time": "2023-07-06T07:22:41.203731300Z",
     "start_time": "2023-07-06T07:22:41.129120200Z"
    }
   }
  },
  {
   "cell_type": "markdown",
   "source": [
    "Prepartion for training"
   ],
   "metadata": {
    "collapsed": false
   }
  },
  {
   "cell_type": "code",
   "execution_count": 150,
   "outputs": [
    {
     "data": {
      "text/plain": "       Home_Win_T1  Away_Win_T1  Avg_Goal_Home_T1  Avg_Goal_Concede_Home_T1  \\\n20642    44.117647    26.470588          1.617647                  1.205882   \n43132    28.571429    23.809524          1.269841                  1.396825   \n31702    44.897959    42.000000          1.571429                  1.326531   \n28017    48.148148    16.666667          1.333333                  1.018519   \n7424     36.363636    20.930233          1.125000                  1.147727   \n\n       Avg_Goal_Away_T1  Avg_Goal_Concede_Away_T1  Home Win %  Away Win %  \\\n20642          1.352941                  1.823529   41.176471   22.058824   \n43132          1.015873                  1.492063   50.793651   33.333333   \n31702          1.580000                  1.380000   29.629630   25.000000   \n28017          0.944444                  1.648148   59.259259   37.037037   \n7424           0.918605                  1.279070   26.136364   13.793103   \n\n       Avg_Goal_Home  Avg_Goal_Concede_Home  Avg_Goal_Away  \\\n20642       1.676471               1.397059       1.323529   \n43132       1.523810               0.968254       1.063492   \n31702       1.444444               1.740741       1.071429   \n28017       1.611111               0.777778       1.222222   \n7424        1.068182               1.500000       0.793103   \n\n       Avg_Goal_Concede_Away  \n20642               1.720588  \n43132               1.349206  \n31702               1.500000  \n28017               1.166667  \n7424                1.896552  ",
      "text/html": "<div>\n<style scoped>\n    .dataframe tbody tr th:only-of-type {\n        vertical-align: middle;\n    }\n\n    .dataframe tbody tr th {\n        vertical-align: top;\n    }\n\n    .dataframe thead th {\n        text-align: right;\n    }\n</style>\n<table border=\"1\" class=\"dataframe\">\n  <thead>\n    <tr style=\"text-align: right;\">\n      <th></th>\n      <th>Home_Win_T1</th>\n      <th>Away_Win_T1</th>\n      <th>Avg_Goal_Home_T1</th>\n      <th>Avg_Goal_Concede_Home_T1</th>\n      <th>Avg_Goal_Away_T1</th>\n      <th>Avg_Goal_Concede_Away_T1</th>\n      <th>Home Win %</th>\n      <th>Away Win %</th>\n      <th>Avg_Goal_Home</th>\n      <th>Avg_Goal_Concede_Home</th>\n      <th>Avg_Goal_Away</th>\n      <th>Avg_Goal_Concede_Away</th>\n    </tr>\n  </thead>\n  <tbody>\n    <tr>\n      <th>20642</th>\n      <td>44.117647</td>\n      <td>26.470588</td>\n      <td>1.617647</td>\n      <td>1.205882</td>\n      <td>1.352941</td>\n      <td>1.823529</td>\n      <td>41.176471</td>\n      <td>22.058824</td>\n      <td>1.676471</td>\n      <td>1.397059</td>\n      <td>1.323529</td>\n      <td>1.720588</td>\n    </tr>\n    <tr>\n      <th>43132</th>\n      <td>28.571429</td>\n      <td>23.809524</td>\n      <td>1.269841</td>\n      <td>1.396825</td>\n      <td>1.015873</td>\n      <td>1.492063</td>\n      <td>50.793651</td>\n      <td>33.333333</td>\n      <td>1.523810</td>\n      <td>0.968254</td>\n      <td>1.063492</td>\n      <td>1.349206</td>\n    </tr>\n    <tr>\n      <th>31702</th>\n      <td>44.897959</td>\n      <td>42.000000</td>\n      <td>1.571429</td>\n      <td>1.326531</td>\n      <td>1.580000</td>\n      <td>1.380000</td>\n      <td>29.629630</td>\n      <td>25.000000</td>\n      <td>1.444444</td>\n      <td>1.740741</td>\n      <td>1.071429</td>\n      <td>1.500000</td>\n    </tr>\n    <tr>\n      <th>28017</th>\n      <td>48.148148</td>\n      <td>16.666667</td>\n      <td>1.333333</td>\n      <td>1.018519</td>\n      <td>0.944444</td>\n      <td>1.648148</td>\n      <td>59.259259</td>\n      <td>37.037037</td>\n      <td>1.611111</td>\n      <td>0.777778</td>\n      <td>1.222222</td>\n      <td>1.166667</td>\n    </tr>\n    <tr>\n      <th>7424</th>\n      <td>36.363636</td>\n      <td>20.930233</td>\n      <td>1.125000</td>\n      <td>1.147727</td>\n      <td>0.918605</td>\n      <td>1.279070</td>\n      <td>26.136364</td>\n      <td>13.793103</td>\n      <td>1.068182</td>\n      <td>1.500000</td>\n      <td>0.793103</td>\n      <td>1.896552</td>\n    </tr>\n  </tbody>\n</table>\n</div>"
     },
     "execution_count": 150,
     "metadata": {},
     "output_type": "execute_result"
    }
   ],
   "source": [
    "from sklearn.model_selection import train_test_split\n",
    "\n",
    "# train_df = train_df['Winner'].astype(int)\n",
    "X = train_df.drop(\"Winner\", axis=1)\n",
    "y = train_df['Winner']\n",
    "\n",
    "X_train, X_test, y_train, y_test = train_test_split(\n",
    "    X, y, test_size=0.25, random_state=40\n",
    ")\n",
    "\n",
    "y_train = y_train.astype(int)\n",
    "y_test = y_test.astype(int)\n",
    "X_train.head()"
   ],
   "metadata": {
    "collapsed": false,
    "ExecuteTime": {
     "end_time": "2023-07-06T07:22:42.673928400Z",
     "start_time": "2023-07-06T07:22:42.638349200Z"
    }
   }
  },
  {
   "cell_type": "code",
   "execution_count": 153,
   "outputs": [
    {
     "data": {
      "text/plain": "'multiclass'"
     },
     "execution_count": 153,
     "metadata": {},
     "output_type": "execute_result"
    }
   ],
   "source": [
    "from sklearn.utils.multiclass import type_of_target\n",
    "\n",
    "type_of_target(y_test)"
   ],
   "metadata": {
    "collapsed": false,
    "ExecuteTime": {
     "end_time": "2023-07-06T07:23:20.695209900Z",
     "start_time": "2023-07-06T07:23:20.655170100Z"
    }
   }
  },
  {
   "cell_type": "code",
   "execution_count": 152,
   "outputs": [],
   "source": [
    "import os\n",
    "X.to_csv(os.path.expanduser(\"data/X.csv\"), index=False)\n",
    "y.to_csv(os.path.expanduser(\"data/y.csv\"), index=False)\n",
    "\n",
    "X_train.to_csv(os.path.expanduser(\"data/X_train.csv\"), index=False)\n",
    "X_test.to_csv(os.path.expanduser(\"data/X_test.csv\"), index=False)\n",
    "y_train.to_csv(os.path.expanduser(\"data/y_train.csv\"), index=False)\n",
    "y_test.to_csv(os.path.expanduser(\"data/y_test.csv\"), index=False)"
   ],
   "metadata": {
    "collapsed": false,
    "ExecuteTime": {
     "end_time": "2023-07-06T07:23:17.157226700Z",
     "start_time": "2023-07-06T07:23:14.920352700Z"
    }
   }
  },
  {
   "cell_type": "code",
   "execution_count": 154,
   "outputs": [
    {
     "data": {
      "text/plain": "'multiclass'"
     },
     "execution_count": 154,
     "metadata": {},
     "output_type": "execute_result"
    }
   ],
   "source": [
    "type_of_target(y_train)"
   ],
   "metadata": {
    "collapsed": false,
    "ExecuteTime": {
     "end_time": "2023-07-06T07:23:25.012304800Z",
     "start_time": "2023-07-06T07:23:24.969616Z"
    }
   }
  },
  {
   "cell_type": "code",
   "execution_count": 155,
   "outputs": [],
   "source": [
    "from lightgbm.sklearn import LGBMClassifier\n",
    "from sklearn.model_selection import RepeatedKFold\n",
    "from sklearn.metrics import f1_score"
   ],
   "metadata": {
    "collapsed": false,
    "ExecuteTime": {
     "end_time": "2023-07-06T07:23:26.700248600Z",
     "start_time": "2023-07-06T07:23:26.683826Z"
    }
   }
  },
  {
   "cell_type": "markdown",
   "source": [
    "K-fold cross validation"
   ],
   "metadata": {
    "collapsed": false
   }
  },
  {
   "cell_type": "code",
   "execution_count": 156,
   "outputs": [],
   "source": [
    "# On répète 3 fois un 5-Fold\n",
    "rep_kfold = RepeatedKFold(n_splits=4, n_repeats=3) # 4-Fold => 25% de test\n",
    "\n",
    "# Hyper-paramètres des modèles\n",
    "hyp_params = {\n",
    "    \"num_leaves\": 60,\n",
    "    \"min_child_samples\": 10,\n",
    "    \"max_depth\": 12,\n",
    "    \"n_estimators\": 100,\n",
    "    \"learning_rate\": 0.1\n",
    "}"
   ],
   "metadata": {
    "collapsed": false,
    "ExecuteTime": {
     "end_time": "2023-07-06T07:23:29.053582500Z",
     "start_time": "2023-07-06T07:23:29.038562900Z"
    }
   }
  },
  {
   "cell_type": "code",
   "execution_count": 159,
   "outputs": [
    {
     "name": "stdout",
     "output_type": "stream",
     "text": [
      "Itération 1 du k-Fold\n"
     ]
    },
    {
     "ename": "ValueError",
     "evalue": "Unknown label type: unknown. Maybe you are trying to fit a classifier, which expects discrete classes on a regression target with continuous values.",
     "output_type": "error",
     "traceback": [
      "\u001B[1;31m---------------------------------------------------------------------------\u001B[0m",
      "\u001B[1;31mValueError\u001B[0m                                Traceback (most recent call last)",
      "Cell \u001B[1;32mIn[159], line 15\u001B[0m\n\u001B[0;32m     13\u001B[0m \u001B[38;5;66;03m# On entraîne un LightGBM avec les paramètres par défaut\u001B[39;00m\n\u001B[0;32m     14\u001B[0m model \u001B[38;5;241m=\u001B[39m LGBMClassifier(\u001B[38;5;241m*\u001B[39m\u001B[38;5;241m*\u001B[39mhyp_params, objective\u001B[38;5;241m=\u001B[39m\u001B[38;5;124m\"\u001B[39m\u001B[38;5;124mmulticlass\u001B[39m\u001B[38;5;124m\"\u001B[39m, verbose\u001B[38;5;241m=\u001B[39m\u001B[38;5;241m-\u001B[39m\u001B[38;5;241m1\u001B[39m)\n\u001B[1;32m---> 15\u001B[0m \u001B[43mmodel\u001B[49m\u001B[38;5;241;43m.\u001B[39;49m\u001B[43mfit\u001B[49m\u001B[43m(\u001B[49m\u001B[43mX_fold_train\u001B[49m\u001B[43m,\u001B[49m\u001B[43m \u001B[49m\u001B[43my_fold_train\u001B[49m\u001B[43m)\u001B[49m\n\u001B[0;32m     17\u001B[0m \u001B[38;5;66;03m# On calcule le score du modèle sur le test\u001B[39;00m\n\u001B[0;32m     18\u001B[0m scores_train\u001B[38;5;241m.\u001B[39mappend(\n\u001B[0;32m     19\u001B[0m     f1_score(y_fold_train, model\u001B[38;5;241m.\u001B[39mpredict(X_fold_train), average\u001B[38;5;241m=\u001B[39m\u001B[38;5;124m'\u001B[39m\u001B[38;5;124mweighted\u001B[39m\u001B[38;5;124m'\u001B[39m)\n\u001B[0;32m     20\u001B[0m )\n",
      "File \u001B[1;32m~\\anaconda3\\envs\\MLops\\lib\\site-packages\\lightgbm\\sklearn.py:923\u001B[0m, in \u001B[0;36mLGBMClassifier.fit\u001B[1;34m(self, X, y, sample_weight, init_score, eval_set, eval_names, eval_sample_weight, eval_class_weight, eval_init_score, eval_metric, early_stopping_rounds, verbose, feature_name, categorical_feature, callbacks, init_model)\u001B[0m\n\u001B[0;32m    921\u001B[0m \u001B[38;5;250m\u001B[39m\u001B[38;5;124;03m\"\"\"Docstring is inherited from the LGBMModel.\"\"\"\u001B[39;00m\n\u001B[0;32m    922\u001B[0m _LGBMAssertAllFinite(y)\n\u001B[1;32m--> 923\u001B[0m \u001B[43m_LGBMCheckClassificationTargets\u001B[49m\u001B[43m(\u001B[49m\u001B[43my\u001B[49m\u001B[43m)\u001B[49m\n\u001B[0;32m    924\u001B[0m \u001B[38;5;28mself\u001B[39m\u001B[38;5;241m.\u001B[39m_le \u001B[38;5;241m=\u001B[39m _LGBMLabelEncoder()\u001B[38;5;241m.\u001B[39mfit(y)\n\u001B[0;32m    925\u001B[0m _y \u001B[38;5;241m=\u001B[39m \u001B[38;5;28mself\u001B[39m\u001B[38;5;241m.\u001B[39m_le\u001B[38;5;241m.\u001B[39mtransform(y)\n",
      "File \u001B[1;32m~\\anaconda3\\envs\\MLops\\lib\\site-packages\\sklearn\\utils\\multiclass.py:215\u001B[0m, in \u001B[0;36mcheck_classification_targets\u001B[1;34m(y)\u001B[0m\n\u001B[0;32m    207\u001B[0m y_type \u001B[38;5;241m=\u001B[39m type_of_target(y, input_name\u001B[38;5;241m=\u001B[39m\u001B[38;5;124m\"\u001B[39m\u001B[38;5;124my\u001B[39m\u001B[38;5;124m\"\u001B[39m)\n\u001B[0;32m    208\u001B[0m \u001B[38;5;28;01mif\u001B[39;00m y_type \u001B[38;5;129;01mnot\u001B[39;00m \u001B[38;5;129;01min\u001B[39;00m [\n\u001B[0;32m    209\u001B[0m     \u001B[38;5;124m\"\u001B[39m\u001B[38;5;124mbinary\u001B[39m\u001B[38;5;124m\"\u001B[39m,\n\u001B[0;32m    210\u001B[0m     \u001B[38;5;124m\"\u001B[39m\u001B[38;5;124mmulticlass\u001B[39m\u001B[38;5;124m\"\u001B[39m,\n\u001B[1;32m   (...)\u001B[0m\n\u001B[0;32m    213\u001B[0m     \u001B[38;5;124m\"\u001B[39m\u001B[38;5;124mmultilabel-sequences\u001B[39m\u001B[38;5;124m\"\u001B[39m,\n\u001B[0;32m    214\u001B[0m ]:\n\u001B[1;32m--> 215\u001B[0m     \u001B[38;5;28;01mraise\u001B[39;00m \u001B[38;5;167;01mValueError\u001B[39;00m(\n\u001B[0;32m    216\u001B[0m         \u001B[38;5;124mf\u001B[39m\u001B[38;5;124m\"\u001B[39m\u001B[38;5;124mUnknown label type: \u001B[39m\u001B[38;5;132;01m{\u001B[39;00my_type\u001B[38;5;132;01m}\u001B[39;00m\u001B[38;5;124m. Maybe you are trying to fit a \u001B[39m\u001B[38;5;124m\"\u001B[39m\n\u001B[0;32m    217\u001B[0m         \u001B[38;5;124m\"\u001B[39m\u001B[38;5;124mclassifier, which expects discrete classes on a \u001B[39m\u001B[38;5;124m\"\u001B[39m\n\u001B[0;32m    218\u001B[0m         \u001B[38;5;124m\"\u001B[39m\u001B[38;5;124mregression target with continuous values.\u001B[39m\u001B[38;5;124m\"\u001B[39m\n\u001B[0;32m    219\u001B[0m     )\n",
      "\u001B[1;31mValueError\u001B[0m: Unknown label type: unknown. Maybe you are trying to fit a classifier, which expects discrete classes on a regression target with continuous values."
     ]
    }
   ],
   "source": [
    "scores_train = []\n",
    "scores_test = []\n",
    "n_iter = 1\n",
    "for train_I, test_I in rep_kfold.split(X):\n",
    "    print(\"Itération {} du k-Fold\".format(n_iter))\n",
    "    # On récupère les indices des sous-échantillons\n",
    "    X_fold_train = X.iloc[train_I, :]\n",
    "    y_fold_train = y.iloc[train_I]\n",
    "    X_fold_test = X.iloc[test_I, :]\n",
    "    y_fold_test = y.iloc[test_I]\n",
    "\n",
    "\n",
    "    # On entraîne un LightGBM avec les paramètres par défaut\n",
    "    model = LGBMClassifier(**hyp_params, objective=\"multiclass\", verbose=-1)\n",
    "    model.fit(X_fold_train, y_fold_train)\n",
    "\n",
    "    # On calcule le score du modèle sur le test\n",
    "    scores_train.append(\n",
    "        f1_score(y_fold_train, model.predict(X_fold_train), average='weighted')\n",
    "    )\n",
    "    scores_test.append(\n",
    "        f1_score(y_fold_test, model.predict(X_fold_test), average='weighted')\n",
    "    )\n",
    "    n_iter += 1"
   ],
   "metadata": {
    "collapsed": false,
    "ExecuteTime": {
     "end_time": "2023-07-06T07:26:21.398478800Z",
     "start_time": "2023-07-06T07:26:21.306021600Z"
    }
   }
  },
  {
   "cell_type": "code",
   "execution_count": 103,
   "outputs": [],
   "source": [],
   "metadata": {
    "collapsed": false,
    "ExecuteTime": {
     "end_time": "2023-07-06T07:11:14.391176300Z",
     "start_time": "2023-07-06T07:11:14.343852300Z"
    }
   }
  },
  {
   "cell_type": "code",
   "execution_count": null,
   "outputs": [],
   "source": [],
   "metadata": {
    "collapsed": false
   }
  }
 ],
 "metadata": {
  "kernelspec": {
   "display_name": "Python 3",
   "language": "python",
   "name": "python3"
  },
  "language_info": {
   "codemirror_mode": {
    "name": "ipython",
    "version": 2
   },
   "file_extension": ".py",
   "mimetype": "text/x-python",
   "name": "python",
   "nbconvert_exporter": "python",
   "pygments_lexer": "ipython2",
   "version": "2.7.6"
  }
 },
 "nbformat": 4,
 "nbformat_minor": 0
}
